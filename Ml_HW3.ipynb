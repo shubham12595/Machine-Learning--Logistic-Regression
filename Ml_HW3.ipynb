{
  "nbformat": 4,
  "nbformat_minor": 0,
  "metadata": {
    "colab": {
      "name": "Untitled",
      "provenance": [],
      "collapsed_sections": []
    },
    "kernelspec": {
      "name": "python3",
      "display_name": "Python 3"
    }
  },
  "cells": [
    {
      "cell_type": "code",
      "metadata": {
        "id": "OlmVJ7ABcO9x",
        "colab_type": "code",
        "outputId": "f27b5780-94f4-4695-ac13-756263c8876b",
        "colab": {
          "base_uri": "https://localhost:8080/",
          "height": 122
        }
      },
      "source": [
        "from google.colab import drive\n",
        "drive.mount('/content/gdrive')"
      ],
      "execution_count": 3,
      "outputs": [
        {
          "output_type": "stream",
          "text": [
            "Go to this URL in a browser: https://accounts.google.com/o/oauth2/auth?client_id=947318989803-6bn6qk8qdgf4n4g3pfee6491hc0brc4i.apps.googleusercontent.com&redirect_uri=urn%3Aietf%3Awg%3Aoauth%3A2.0%3Aoob&scope=email%20https%3A%2F%2Fwww.googleapis.com%2Fauth%2Fdocs.test%20https%3A%2F%2Fwww.googleapis.com%2Fauth%2Fdrive%20https%3A%2F%2Fwww.googleapis.com%2Fauth%2Fdrive.photos.readonly%20https%3A%2F%2Fwww.googleapis.com%2Fauth%2Fpeopleapi.readonly&response_type=code\n",
            "\n",
            "Enter your authorization code:\n",
            "··········\n",
            "Mounted at /content/gdrive\n"
          ],
          "name": "stdout"
        }
      ]
    },
    {
      "cell_type": "code",
      "metadata": {
        "id": "JjHJ6v4_b_yX",
        "colab_type": "code",
        "colab": {}
      },
      "source": [
        "import numpy as np\n",
        "import pandas as pd\n",
        "import matplotlib.pyplot as plt \n",
        "from sklearn.linear_model import LinearRegression, Ridge, Lasso \n",
        "from sklearn.model_selection import train_test_split, cross_val_score \n",
        "from statistics import mean \n",
        "import pickle\n",
        "from sklearn.preprocessing import OneHotEncoder\n",
        "from numpy import linalg as LA"
      ],
      "execution_count": 0,
      "outputs": []
    },
    {
      "cell_type": "code",
      "metadata": {
        "id": "W5nG3Ikfc9tl",
        "colab_type": "code",
        "colab": {}
      },
      "source": [
        "trainlabel= pd.read_csv(\"/content/gdrive/My Drive/ML/HW3/Train_Labels.csv\")\n",
        "vallabel = pd.read_csv(\"/content/gdrive/My Drive/ML/HW3/Val_Labels.csv\")\n",
        "\n",
        "with open(\"/content/gdrive/My Drive/ML/HW3/Train_Features.pkl\", 'rb') as f:\n",
        "    train_pickle = pickle.load(f, encoding=\"latin1\")\n",
        "    train_data = pd.DataFrame(train_pickle).T\n",
        "with open(\"/content/gdrive/My Drive/ML/HW3/Test_Features.pkl\", 'rb') as f:\n",
        "    test_pickle = pickle.load(f, encoding=\"latin1\")\n",
        "    test_data = pd.DataFrame(test_pickle).T\n",
        "with open(\"/content/gdrive/My Drive/ML/HW3/Val_Features.pkl\", 'rb') as f:\n",
        "    val_pickle = pickle.load(f, encoding=\"latin1\")\n",
        "    val_data = pd.DataFrame(val_pickle).T\n",
        "train_data.index.name = 'Id'\n",
        "train_data.reset_index(inplace=True)\n",
        "test_data.index.name = 'Id'\n",
        "test_data.reset_index(inplace=True)\n",
        "val_data.index.name = 'Id'\n",
        "val_data.reset_index(inplace=True)\n",
        "train = pd.merge(train_data,trainlabel,left_on = 'Id',right_on = 'Id', how = 'inner')\n",
        "test = pd.merge(test_data,trainlabel,left_on = 'Id',right_on = 'Id', how = 'inner')\n",
        "val = pd.merge(val_data,vallabel,left_on = 'Id',right_on = 'Id', how = 'inner')\n",
        "valuetest = test_data.iloc[:,1]\n",
        "train_full =train\n",
        "val_full =val\n",
        "test_full = test"
      ],
      "execution_count": 0,
      "outputs": []
    },
    {
      "cell_type": "code",
      "metadata": {
        "id": "LENbDVxxsjxU",
        "colab_type": "code",
        "colab": {}
      },
      "source": [
        "test_data_1=test_data.iloc[:,1:]"
      ],
      "execution_count": 0,
      "outputs": []
    },
    {
      "cell_type": "code",
      "metadata": {
        "id": "qIQeZPIUhFW2",
        "colab_type": "code",
        "colab": {}
      },
      "source": [
        "columns = ['Category', 'Id']\n",
        "train_full_data = train_full.drop(columns, axis=1)\n",
        "val_full_data = val_full.drop(columns,axis=1)\n",
        "train_label = train[['Category']]\n",
        "val_label = val[['Category']]\n",
        "columns1 = ['Id']\n",
        "train_full = train_full.drop(columns1,axis=1)\n",
        "testdata  = test_full.drop(columns, axis=1)\n"
      ],
      "execution_count": 0,
      "outputs": []
    },
    {
      "cell_type": "code",
      "metadata": {
        "id": "zL5MrGFPfLa9",
        "colab_type": "code",
        "colab": {
          "base_uri": "https://localhost:8080/",
          "height": 34
        },
        "outputId": "56a28550-a628-450d-8844-8dfd087ceeb3"
      },
      "source": [
        "test_data.shape"
      ],
      "execution_count": 147,
      "outputs": [
        {
          "output_type": "execute_result",
          "data": {
            "text/plain": [
              "(2000, 513)"
            ]
          },
          "metadata": {
            "tags": []
          },
          "execution_count": 147
        }
      ]
    },
    {
      "cell_type": "code",
      "metadata": {
        "id": "Jfaph1xwKvMS",
        "colab_type": "code",
        "colab": {}
      },
      "source": [
        "train_norm = LA.norm(np.transpose(train_full_data), 1)\n",
        "train_full_data_norm = np.transpose(train_full_data)/train_norm\n",
        "val_norm = LA.norm(np.transpose(val_full_data), 1)\n",
        "val_full_data_norm = np.transpose(val_full_data)/val_norm\n",
        "test_norm = LA.norm(np.transpose(testdata), 1)\n",
        "test_full_data_norm = np.transpose(testdata)/test_norm\n",
        "test_norm1 = LA.norm(np.transpose(test_data_1), 1)\n",
        "test_full_data_norm = np.transpose(test_data_1)/test_norm1\n"
      ],
      "execution_count": 0,
      "outputs": []
    },
    {
      "cell_type": "code",
      "metadata": {
        "id": "uOnScH0a70YO",
        "colab_type": "code",
        "colab": {}
      },
      "source": [
        "onehotencoder = OneHotEncoder(categorical_features = [0]) \n",
        "train_label_encoded = onehotencoder.fit_transform(train_label).toarray()\n",
        "train_label_dataframe = pd.DataFrame(train_label_encoded) \n",
        "train_label_dataframe"
      ],
      "execution_count": 0,
      "outputs": []
    },
    {
      "cell_type": "code",
      "metadata": {
        "id": "1sg4h2UUkIrO",
        "colab_type": "code",
        "colab": {}
      },
      "source": [
        "import numpy as np\n",
        "import math\n",
        "from random import randrange\n",
        "\n",
        "def Derivative(X,Y,wtrans,batchvalue):\n",
        "  (d,N) = X.shape\n",
        "  X2 = np.ones(N)\n",
        "  Xbar = np.vstack([X,X2])\n",
        "  Xbartran = np.transpose(Xbar)\n",
        "  i = 0\n",
        "  val = 0\n",
        "  pr=[]\n",
        "  if(wtrans is None):\n",
        "    wtrans = np.ones([3,d+1])\n",
        "  for i in batchvalue:\n",
        "    #rav gets a column of X values with d dimnensions\n",
        "    rav=Xbar[...,i].ravel()\n",
        "    lis2 = []\n",
        "    #pr is thetha values * the X value of 1 with d dimensions\n",
        "    pr=wtrans.dot(rav)\n",
        "    Y_value =Y[i][0:3]\n",
        "    lis2.append(sigmoid(pr[0],pr))\n",
        "    lis2.append(sigmoid(pr[1],pr))\n",
        "    lis2.append(sigmoid(pr[2],pr))\n",
        "    som = np.subtract(Y_value,lis2)\n",
        "    sigarray = np.array(som)[np.newaxis]\n",
        "    Xvalue = np.array(rav)[np.newaxis]\n",
        "    val = val+ (np.transpose(sigarray)).dot(Xvalue)\n",
        "  val = 0-((1/16.0)*val)\n",
        "  return val\n",
        "\n",
        "#This Function is to create the Batch in the Stochastic Gradient of batch m\n",
        "def batch(N,m):\n",
        "  x = np.random.rand(0,N)\n",
        "  list1 = []\n",
        "  biglist = []\n",
        "  lis1 = []\n",
        "  u =0\n",
        "  for i in range(0,N):\n",
        "    lis1.append(randrange(N))\n",
        "    u = u+1\n",
        "    if(u==m):\n",
        "      biglist.append(lis1)\n",
        "      lis1 = []\n",
        "      u=0\n",
        "  biglist.append(lis1)\n",
        "  return biglist\n",
        "\n",
        "#This sigmoid Function is used to for k-1 coefficients\n",
        "def sigmoid(e,z):\n",
        "  e_z = np.exp(z - np.max(z)) \n",
        "  return (e /(1+ e_z.sum(axis=0)))\n",
        "\n",
        "#This sigmoid Function is used to for k coefficients\n",
        "def sigmoid_kvalue(z):\n",
        "  e_z = np.exp(z - np.max(z)) \n",
        "  return (1 /(1+ e_z.sum(axis=0)))\n",
        "\n",
        "def prob(wtrans,Xbar):\n",
        "  val = max(wtrans).dot(Xbar)\n",
        "  return val\n",
        "\n",
        "def LossFunction(wtrans,X,Y):\n",
        "  (d,N) = X.shape\n",
        "  X2 = np.ones(N)\n",
        "  Xbar = np.vstack([X,X2])\n",
        "  for i in range(N):\n",
        "    rav=Xbar[...,i].ravel()\n",
        "    value = 0\n",
        "    lval= []\n",
        "    for j in range(3):\n",
        "      expval = np.log(1 + np.sum(np.exp(sigmoid(wtrans.dot(rav),wtrans.dot(rav)))))\n",
        "      sumval = sigmoid(wtrans[j].dot(rav),wtrans.dot(rav)) - expval\n",
        "      value =  value+ sumval\n",
        "  finalvalue = 0-value*(1/N)\n",
        "  print(finalvalue)\n",
        "  return finalvalue\n",
        "    \n",
        "def Log(X,Y,m,n0,n1,max_epoch,delta):\n",
        "  wtrans=None\n",
        "  Loss = None\n",
        "  lval = []\n",
        "  for epoch in range(max_epoch):\n",
        "    (k,N) = X.shape\n",
        "    batchvalue = batch(N,m)\n",
        "    n = n0/(n1+epoch)\n",
        "    for i in range(len(batchvalue)):\n",
        "      if(wtrans is None):\n",
        "        wtrans  = Derivative(X,Y,wtrans,batchvalue[i])\n",
        "      else:\n",
        "        wtrans = np.subtract(wtrans, n*Derivative(X,Y,wtrans,batchvalue[i]))\n",
        "    if(Loss is None):\n",
        "      Loss =  LossFunction(wtrans,X,Y)\n",
        "      lval.append((epoch,Loss))\n",
        "    else:\n",
        "      if(LossFunction(wtrans,X,Y)>(1-delta)*Loss):\n",
        "        lval.append((epoch,(1-epoch**0.1)*Loss))\n",
        "        continue\n",
        "      else:\n",
        "        lval.append((i,Loss))\n",
        "        Loss =  LossFunction(wtrans,X,Y)\n",
        "        \n",
        "  return (wtrans,lval)\n",
        "\n"
      ],
      "execution_count": 0,
      "outputs": []
    },
    {
      "cell_type": "code",
      "metadata": {
        "id": "Y07bQf5kICmm",
        "colab_type": "code",
        "colab": {}
      },
      "source": [
        "def LogisticRegression(Xtest,X,Y,m,n0,n1,max_epoch,delta):\n",
        "  (d,N) = Xtest.shape\n",
        "  X2 = np.ones(N)\n",
        "\n",
        "  Xbar = np.vstack((Xtest,X2))\n",
        "  Xbartran = np.transpose(Xbar)\n",
        "  wtrans,lval = Log(X,Y,m,n0,n1,max_epoch,delta)\n",
        "  Z=[]\n",
        "  for i in range(N):\n",
        "    Xval=Xbar[...,i].ravel()\n",
        "    Xarrayvalue = np.array(Xval)[np.newaxis]\n",
        "    Value = wtrans.dot(np.transpose(Xarrayvalue))\n",
        "    y=[]\n",
        "    for j in range(3):\n",
        "      y.append(sigmoid(Value[j],Value))\n",
        "    y.append(sigmoid_kvalue(Value))\n",
        "    Z.append(y)\n",
        "  return (Z,lval)\n",
        "\n",
        "m =8\n",
        "n0 = 0.1\n",
        "n1 = 1\n",
        "delta = 1\n",
        "max_epoch = 10\n",
        "\n",
        "xy,lval11 = LogisticRegression(test_full_data_norm,train_full_data_norm,train_label_dataframe.values,m,n0,n1,max_epoch,delta)\n"
      ],
      "execution_count": 0,
      "outputs": []
    },
    {
      "cell_type": "code",
      "metadata": {
        "id": "_YsPjSY2CZYA",
        "colab_type": "code",
        "colab": {
          "base_uri": "https://localhost:8080/",
          "height": 300
        },
        "outputId": "85e1676f-c1b6-4b73-8d29-d7b8f665bb34"
      },
      "source": [
        "value=lval11\n",
        "pddat=pd.DataFrame(value, columns=['epoch','thetaval'])\n",
        "plt.plot(pddat['epoch'],pddat['thetaval'])\n",
        "plt.xlabel('Epoch')\n",
        "plt.ylabel('Loss Function')"
      ],
      "execution_count": 169,
      "outputs": [
        {
          "output_type": "execute_result",
          "data": {
            "text/plain": [
              "Text(0, 0.5, 'L(theta)')"
            ]
          },
          "metadata": {
            "tags": []
          },
          "execution_count": 169
        },
        {
          "output_type": "display_data",
          "data": {
            "image/png": "[encoded data removed]",
            "text/plain": [
              "<Figure size 432x288 with 1 Axes>"
            ]
          },
          "metadata": {
            "tags": []
          }
        }
      ]
    },
    {
      "cell_type": "markdown",
      "metadata": {
        "id": "ozgtpEKm-_2b",
        "colab_type": "text"
      },
      "source": [
        "For the above values mentioned I have got the following graph.\n",
        "Number of epoch - **8**\n",
        "Loss Function - **0.0009997871619652104**\n"
      ]
    },
    {
      "cell_type": "code",
      "metadata": {
        "id": "QFokAFvl8XQw",
        "colab_type": "code",
        "colab": {}
      },
      "source": [
        "m =16\n",
        "n0 = 0.01\n",
        "n1 = 0.1\n",
        "delta = 0.00001\n",
        "max_epoch = 10\n",
        "\n",
        "x1,lval2 = LogisticRegression(test_full_data_norm,train_full_data_norm,train_label_dataframe.values,m,n0,n1,max_epoch,delta)\n"
      ],
      "execution_count": 0,
      "outputs": []
    },
    {
      "cell_type": "code",
      "metadata": {
        "id": "7qBE4o295PhI",
        "colab_type": "code",
        "colab": {
          "base_uri": "https://localhost:8080/",
          "height": 312
        },
        "outputId": "270aa18c-bbbc-4f8a-dac8-7677ecbf0037"
      },
      "source": [
        "lval2=pd.DataFrame(lval2, columns=['epoch','thetaval'])\n",
        "plt.plot(lval2['epoch'],lval2['thetaval'])\n",
        "plt.title('n0=0.01 and n1=0.1')\n",
        "plt.xlabel('Epoch')\n",
        "plt.ylabel('Loss Function')"
      ],
      "execution_count": 160,
      "outputs": [
        {
          "output_type": "execute_result",
          "data": {
            "text/plain": [
              "Text(0, 0.5, 'L(theta)')"
            ]
          },
          "metadata": {
            "tags": []
          },
          "execution_count": 160
        },
        {
          "output_type": "display_data",
          "data": {
            "image/png": "[encoded data removed]",
            "text/plain": [
              "<Figure size 432x288 with 1 Axes>"
            ]
          },
          "metadata": {
            "tags": []
          }
        }
      ]
    },
    {
      "cell_type": "markdown",
      "metadata": {
        "id": "kopn2WxxIZAV",
        "colab_type": "text"
      },
      "source": [
        "For values  n0 - 0.01 and n1 = 0.1\n",
        "Epoch - 8\n",
        "Loss Function value - 0.0009998314425902813\n"
      ]
    },
    {
      "cell_type": "markdown",
      "metadata": {
        "id": "0DIzsLIUNPgY",
        "colab_type": "text"
      },
      "source": [
        "**For 2.2.3 **\n"
      ]
    },
    {
      "cell_type": "code",
      "metadata": {
        "id": "pLrnttLa5gkp",
        "colab_type": "code",
        "colab": {}
      },
      "source": [
        "\n",
        "Out,plot1=LogisticRegression(test_full_data_norm,train_full_data_norm,train_label_dataframe.values,16,0.1,1,20,4)\n",
        "plot_dt=pd.DataFrame(plot1, columns=['epoch','thetaval'])\n"
      ],
      "execution_count": 0,
      "outputs": []
    },
    {
      "cell_type": "code",
      "metadata": {
        "id": "LB3lfQuMMTch",
        "colab_type": "code",
        "colab": {}
      },
      "source": [
        "Out1,plotval=LogisticRegression(val_full_data_norm,train_full_data_norm,train_label_dataframe.values,16,0.1,1,20,4)\n",
        "plot_val=pd.DataFrame(plotval, columns=['epoch','thetaval'])\n"
      ],
      "execution_count": 0,
      "outputs": []
    },
    {
      "cell_type": "code",
      "metadata": {
        "id": "kOQ4No2CC6cE",
        "colab_type": "code",
        "colab": {
          "base_uri": "https://localhost:8080/",
          "height": 281
        },
        "outputId": "3b25b1be-bf85-451d-e8dc-6c62e0011c52"
      },
      "source": [
        "plt.plot(plot_val['epoch'], plot_dt['thetaval'], 'b')\n",
        "plt.plot(plot_dt['epoch'], plot_dt['thetaval'], 'r')\n",
        "plt.title('Plot of Loss Function for training and validation data')\n",
        "plt.show()"
      ],
      "execution_count": 200,
      "outputs": [
        {
          "output_type": "display_data",
          "data": {
            "image/png": "[encoded data removed]",
            "text/plain": [
              "<Figure size 432x288 with 1 Axes>"
            ]
          },
          "metadata": {
            "tags": []
          }
        }
      ]
    },
    {
      "cell_type": "code",
      "metadata": {
        "id": "63_PhXJpKGxO",
        "colab_type": "code",
        "colab": {}
      },
      "source": [
        "Loss Function as a function of Epoch. Graph for validation and training data."
      ],
      "execution_count": 0,
      "outputs": []
    },
    {
      "cell_type": "code",
      "metadata": {
        "id": "n09s-R96HCuA",
        "colab_type": "code",
        "colab": {}
      },
      "source": [
        "Frame = pd.DataFrame(x,columns=['1','2','3','4'],dtype = float)\n",
        "xy = Frame.idxmax(axis = 1)\n",
        "Frame\n",
        "datafr = pd.DataFrame({'Id': test_data['Id'],'Category': Frame.idxmax(axis = 1)})\n",
        "datafr.to_csv('sub1.csv', header=False, index=False) "
      ],
      "execution_count": 0,
      "outputs": []
    }
  ]
}